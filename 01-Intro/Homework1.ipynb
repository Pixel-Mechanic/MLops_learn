{
 "cells": [
  {
   "cell_type": "code",
   "execution_count": 1,
   "id": "7ae7e663",
   "metadata": {},
   "outputs": [],
   "source": [
    "import pandas as pd\n",
    "import seaborn as sns\n",
    "import matplotlib.pyplot as plt\n",
    "import pickle\n",
    "\n",
    "from sklearn.feature_extraction import DictVectorizer\n",
    "from sklearn.linear_model import LinearRegression\n",
    "from sklearn.linear_model import Lasso\n",
    "from sklearn.linear_model import Ridge\n",
    "\n",
    "from sklearn.metrics import mean_squared_error"
   ]
  },
  {
   "cell_type": "code",
   "execution_count": 2,
   "id": "62f85c4a",
   "metadata": {},
   "outputs": [
    {
     "name": "stdout",
     "output_type": "stream",
     "text": [
      "The length of columns in January month is 19\n"
     ]
    }
   ],
   "source": [
    "df = pd.read_parquet(\"/workspaces/MLops_learn/NYC_data/yellow_tripdata_2023-01.parquet\")\n",
    "print(f'The length of columns in January month is {len(df.columns)}')"
   ]
  },
  {
   "cell_type": "code",
   "execution_count": 3,
   "id": "6d38b5ac",
   "metadata": {},
   "outputs": [
    {
     "name": "stdout",
     "output_type": "stream",
     "text": [
      "The standard deviation of the duration is 42.594351241920904\n"
     ]
    }
   ],
   "source": [
    "df['duration'] = df.tpep_dropoff_datetime - df.tpep_pickup_datetime\n",
    "df.duration = df.duration.apply(lambda td: td.total_seconds() / 60)\n",
    "std_value = df['duration'].describe()['std']\n",
    "print(f'The standard deviation of the duration is {std_value}')"
   ]
  },
  {
   "cell_type": "code",
   "execution_count": 4,
   "id": "1e1eff8b",
   "metadata": {},
   "outputs": [
    {
     "name": "stderr",
     "output_type": "stream",
     "text": [
      "/home/codespace/anaconda3/lib/python3.9/site-packages/seaborn/distributions.py:2619: FutureWarning: `distplot` is a deprecated function and will be removed in a future version. Please adapt your code to use either `displot` (a figure-level function with similar flexibility) or `histplot` (an axes-level function for histograms).\n",
      "  warnings.warn(msg, FutureWarning)\n"
     ]
    },
    {
     "data": {
      "text/plain": [
       "<AxesSubplot:xlabel='duration', ylabel='Density'>"
      ]
     },
     "execution_count": 4,
     "metadata": {},
     "output_type": "execute_result"
    },
    {
     "data": {
      "image/png": "[encoded data removed]",
      "text/plain": [
       "<Figure size 432x288 with 1 Axes>"
      ]
     },
     "metadata": {
      "needs_background": "light"
     },
     "output_type": "display_data"
    }
   ],
   "source": [
    "sns.distplot(df['duration'])"
   ]
  },
  {
   "cell_type": "code",
   "execution_count": 5,
   "id": "77776c9d",
   "metadata": {},
   "outputs": [
    {
     "name": "stdout",
     "output_type": "stream",
     "text": [
      "The fraction of rows after filtering is 98%\n"
     ]
    }
   ],
   "source": [
    "rows_before = df.shape[0]\n",
    "df = df[(df.duration >= 1) & (df.duration <= 60)]\n",
    "rows_after = df.shape[0]\n",
    "fraction = (rows_after/rows_before)*100\n",
    "print(f'The fraction of rows after filtering is {fraction:.0f}%')"
   ]
  },
  {
   "cell_type": "code",
   "execution_count": 6,
   "id": "ff857648",
   "metadata": {},
   "outputs": [
    {
     "name": "stdout",
     "output_type": "stream",
     "text": [
      "The number of columns is 515\n"
     ]
    }
   ],
   "source": [
    "categorical = ['PULocationID', 'DOLocationID']\n",
    "#numerical = ['trip_distance']\n",
    "df[categorical] = df[categorical].astype(str)\n",
    "train_dicts = df[categorical].to_dict(orient='records')\n",
    "dv = DictVectorizer()\n",
    "X_train = dv.fit_transform(train_dicts)\n",
    "print(f'The number of columns is {X_train.shape[1]}')"
   ]
  },
  {
   "cell_type": "code",
   "execution_count": 7,
   "id": "e0124c03",
   "metadata": {},
   "outputs": [],
   "source": [
    "del df, train_dicts, dv, X_train, "
   ]
  },
  {
   "cell_type": "markdown",
   "id": "49d8513c",
   "metadata": {},
   "source": [
    "### Training and testing on validation data"
   ]
  },
  {
   "cell_type": "code",
   "execution_count": 8,
   "id": "d0d70153",
   "metadata": {},
   "outputs": [],
   "source": [
    "def read_dataframe(filename):\n",
    "    df = pd.read_parquet(filename)\n",
    "    df['duration'] = df.tpep_dropoff_datetime - df.tpep_pickup_datetime\n",
    "    df.duration = df.duration.apply(lambda td: td.total_seconds() / 60)\n",
    "\n",
    "    df = df[(df.duration >= 1) & (df.duration <= 60)]\n",
    "    categorical = ['PULocationID', 'DOLocationID']\n",
    "    df[categorical] = df[categorical].astype(str)\n",
    "    return df\n",
    "\n",
    "categorical = ['PULocationID', 'DOLocationID']\n",
    "numerical = []\n",
    "target = 'duration'\n",
    "dv = DictVectorizer()\n",
    "lr = LinearRegression()\n"
   ]
  },
  {
   "cell_type": "code",
   "execution_count": 9,
   "id": "0f872433",
   "metadata": {},
   "outputs": [
    {
     "name": "stdout",
     "output_type": "stream",
     "text": [
      "3009173\n",
      "The RMSE of the training set is 7.649\n"
     ]
    }
   ],
   "source": [
    "df_train = read_dataframe('/workspaces/MLops_learn/NYC_data/yellow_tripdata_2023-01.parquet')\n",
    "print(len(df_train))\n",
    "\n",
    "train_dicts = df_train[categorical + numerical].to_dict(orient='records')\n",
    "X_train = dv.fit_transform(train_dicts)\n",
    "y_train = df_train[target].values\n",
    "lr.fit(X_train, y_train)\n",
    "\n",
    "y_pred = lr.predict(X_train)\n",
    "\n",
    "rmse_train = mean_squared_error(y_train, y_pred, squared=False)\n",
    "print(f'The RMSE of the training set is {rmse_train:.3f}')"
   ]
  },
  {
   "cell_type": "code",
   "execution_count": 10,
   "id": "d60db018",
   "metadata": {},
   "outputs": [],
   "source": [
    "del df_train,X_train,y_train,train_dicts"
   ]
  },
  {
   "cell_type": "code",
   "execution_count": 11,
   "id": "f1f1a689",
   "metadata": {},
   "outputs": [
    {
     "name": "stdout",
     "output_type": "stream",
     "text": [
      "The RMSE of the validation set is 7.812\n"
     ]
    }
   ],
   "source": [
    "df_val = read_dataframe('/workspaces/MLops_learn/NYC_data/yellow_tripdata_2023-02.parquet')\n",
    "val_dicts = df_val[categorical + numerical].to_dict(orient='records')\n",
    "X_val = dv.transform(val_dicts)\n",
    "y_val = df_val[target].values\n",
    "\n",
    "\n",
    "y_pred = lr.predict(X_val)\n",
    "\n",
    "rmse_train = mean_squared_error(y_val, y_pred, squared=False)\n",
    "print(f'The RMSE of the validation set is {rmse_train:.3f}')"
   ]
  },
  {
   "cell_type": "code",
   "execution_count": null,
   "id": "c05b4b70",
   "metadata": {},
   "outputs": [],
   "source": []
  },
  {
   "cell_type": "code",
   "execution_count": null,
   "id": "1050af1a",
   "metadata": {},
   "outputs": [],
   "source": []
  }
 ],
 "metadata": {
  "kernelspec": {
   "display_name": "base",
   "language": "python",
   "name": "python3"
  },
  "language_info": {
   "codemirror_mode": {
    "name": "ipython",
    "version": 3
   },
   "file_extension": ".py",
   "mimetype": "text/x-python",
   "name": "python",
   "nbconvert_exporter": "python",
   "pygments_lexer": "ipython3",
   "version": "3.9.12"
  }
 },
 "nbformat": 4,
 "nbformat_minor": 5
}
